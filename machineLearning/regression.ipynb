{
 "cells": [
  {
   "cell_type": "code",
   "execution_count": 2,
   "metadata": {
    "collapsed": true
   },
   "outputs": [],
   "source": [
    "def studentReg(ages_train, net_worths_train):\n",
    "    ### import the sklearn regression module, create, and train your regression\n",
    "    from sklearn import linear_model\n",
    "\n",
    "    ### name your regression reg\n",
    "    reg=linear_model.LinearRegression()\n",
    "    ### your code goes here!\n",
    "    reg.fit(ages_train, net_worths_train)\n",
    "    return reg"
   ]
  },
  {
   "cell_type": "code",
   "execution_count": 12,
   "metadata": {
    "collapsed": true
   },
   "outputs": [],
   "source": [
    "def ageNetWorthData():\n",
    "\n",
    "    random.seed(42)\n",
    "    numpy.random.seed(42)\n",
    "\n",
    "    ages = []\n",
    "    for ii in range(100):\n",
    "        ages.append( random.randint(20,65) )\n",
    "    net_worths = [ii * 6.25 + numpy.random.normal(scale=40.) for ii in ages]\n",
    "### need massage list into a 2d numpy array to get it to work in LinearRegression\n",
    "    ages       = numpy.reshape( numpy.array(ages), (len(ages), 1))\n",
    "    net_worths = numpy.reshape( numpy.array(net_worths), (len(net_worths), 1))\n",
    "\n",
    "    from sklearn.cross_validation import train_test_split\n",
    "    ages_train, ages_test, net_worths_train, net_worths_test = train_test_split(ages, net_worths)\n",
    "\n",
    "    return ages_train, ages_test, net_worths_train, net_worths_test"
   ]
  },
  {
   "cell_type": "code",
   "execution_count": 20,
   "metadata": {
    "collapsed": false
   },
   "outputs": [
    {
     "data": {
      "image/png": "[encoded data removed]",
      "text/plain": [
       "<matplotlib.figure.Figure at 0x7fda36315890>"
      ]
     },
     "metadata": {},
     "output_type": "display_data"
    }
   ],
   "source": [
    "import numpy\n",
    "import matplotlib\n",
    "import random\n",
    "matplotlib.use('agg')\n",
    "\n",
    "import matplotlib.pyplot as plt\n",
    "#from studentRegression import studentReg\n",
    "from class_vis import prettyPicture, output_image\n",
    "\n",
    "#from ages_net_worths import ageNetWorthData\n",
    "\n",
    "        ages_train, ages_test, net_worths_train, net_worths_test = ageNetWorthData()\n",
    "\n",
    "\n",
    "\n",
    "reg = studentReg(ages_train, net_worths_train)\n",
    "\n",
    "\n",
    "%matplotlib inline\n",
    "plt.clf()\n",
    "plt.scatter(ages_train, net_worths_train, color=\"b\", label=\"train data\")\n",
    "plt.scatter(ages_test, net_worths_test, color=\"r\", label=\"test data\")\n",
    "plt.plot(ages_test, reg.predict(ages_test), color=\"black\")\n",
    "plt.legend(loc=2)\n",
    "plt.xlabel(\"ages\")\n",
    "plt.ylabel(\"net worths\")\n",
    "\n",
    "plt.show()"
   ]
  },
  {
   "cell_type": "code",
   "execution_count": 55,
   "metadata": {
    "collapsed": false
   },
   "outputs": [
    {
     "name": "stdout",
     "output_type": "stream",
     "text": [
      "test r2 0.812365729231\n",
      "train r2 0.874588235822\n"
     ]
    }
   ],
   "source": [
    "ssres=pow(reg.predict(ages_test)-net_worths_test,2).sum()\n",
    "ssmean=net_worths_test.sum()/len(ages_test)\n",
    "sstot=pow(net_worths_test-ssmean,2).sum()\n",
    "print 'test r2',1-(ssres/sstot)\n",
    "ssres=pow(reg.predict(ages_train)-net_worths_train,2).sum()\n",
    "ssmean=net_worths_train.sum()/len(ages_train)\n",
    "sstot=pow(net_worths_train-ssmean,2).sum()\n",
    "print 'train r2',1-(ssres/sstot)"
   ]
  },
  {
   "cell_type": "code",
   "execution_count": 42,
   "metadata": {
    "collapsed": false
   },
   "outputs": [
    {
     "name": "stdout",
     "output_type": "stream",
     "text": [
      "0.812365729231\n",
      "0.874588235822\n",
      "[-14.35378331]\n",
      "[[ 6.47354955]]\n"
     ]
    }
   ],
   "source": [
    "print reg.score(ages_test,net_worths_test)\n",
    "print reg.score(ages_train,net_worths_train)\n",
    "print reg.intercept_\n",
    "print reg.coef_"
   ]
  },
  {
   "cell_type": "code",
   "execution_count": 48,
   "metadata": {
    "collapsed": false
   },
   "outputs": [
    {
     "data": {
      "text/plain": [
       "160.43205453082507"
      ]
     },
     "execution_count": 48,
     "metadata": {},
     "output_type": "execute_result"
    }
   ],
   "source": [
    "reg.predict([[27]])[0][0]"
   ]
  },
  {
   "cell_type": "code",
   "execution_count": null,
   "metadata": {
    "collapsed": true
   },
   "outputs": [],
   "source": []
  }
 ],
 "metadata": {
  "kernelspec": {
   "display_name": "Python 2",
   "language": "python",
   "name": "python2"
  },
  "language_info": {
   "codemirror_mode": {
    "name": "ipython",
    "version": 2
   },
   "file_extension": ".py",
   "mimetype": "text/x-python",
   "name": "python",
   "nbconvert_exporter": "python",
   "pygments_lexer": "ipython2",
   "version": "2.7.11"
  }
 },
 "nbformat": 4,
 "nbformat_minor": 0
}
