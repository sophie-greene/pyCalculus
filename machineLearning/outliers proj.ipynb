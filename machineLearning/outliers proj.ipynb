{
 "cells": [
  {
   "cell_type": "code",
   "execution_count": 2,
   "metadata": {
    "collapsed": false
   },
   "outputs": [
    {
     "name": "stdout",
     "output_type": "stream",
     "text": [
      "#!/usr/bin/python\r\n",
      "\r\n",
      "import pickle\r\n",
      "import sys\r\n",
      "import matplotlib.pyplot\r\n",
      "sys.path.append(\"../tools/\")\r\n",
      "from feature_format import featureFormat, targetFeatureSplit\r\n",
      "\r\n",
      "\r\n",
      "### read in data dictionary, convert to numpy array\r\n",
      "data_dict = pickle.load( open(\"../final_project/final_project_dataset.pkl\", \"r\") )\r\n",
      "features = [\"salary\", \"bonus\"]\r\n",
      "data = featureFormat(data_dict, features)\r\n",
      "\r\n",
      "\r\n",
      "### your code below\r\n",
      "\r\n",
      "\r\n",
      "\r\n"
     ]
    }
   ],
   "source": [
    "!cat outliers/enron_outliers.py"
   ]
  },
  {
   "cell_type": "code",
   "execution_count": 61,
   "metadata": {
    "collapsed": false
   },
   "outputs": [],
   "source": [
    "import pickle\n",
    "import sys\n",
    "import matplotlib.pyplot\n",
    "import numpy as np\n",
    "sys.path.append(\"tools/\")\n",
    "from feature_format import featureFormat, targetFeatureSplit\n",
    "\n",
    "\n",
    "### read in data dictionary, convert to numpy array\n",
    "data_dict = pickle.load( open(\"final_project/final_project_dataset.pkl\", \"r\") )\n",
    "if 'TOTAL' in data_dict:\n",
    "    del data_dict['TOTAL']\n",
    "features = [\"salary\", \"bonus\"]\n",
    "data = featureFormat(data_dict, features)\n",
    "inputs=np.asarray(data[:,0]).reshape(-1,1)\n",
    "labels=np.asarray(data[:,1]).reshape(-1,1)"
   ]
  },
  {
   "cell_type": "code",
   "execution_count": 62,
   "metadata": {
    "collapsed": false
   },
   "outputs": [
    {
     "data": {
      "text/plain": [
       "LinearRegression(copy_X=True, fit_intercept=True, n_jobs=1, normalize=False)"
      ]
     },
     "execution_count": 62,
     "metadata": {},
     "output_type": "execute_result"
    }
   ],
   "source": [
    "from sklearn.linear_model import LinearRegression\n",
    "regd=LinearRegression()\n",
    "regd.fit(inputs, labels)"
   ]
  },
  {
   "cell_type": "code",
   "execution_count": 63,
   "metadata": {
    "collapsed": false
   },
   "outputs": [
    {
     "data": {
      "text/plain": [
       "[<matplotlib.lines.Line2D at 0x7f60440a7210>]"
      ]
     },
     "execution_count": 63,
     "metadata": {},
     "output_type": "execute_result"
    },
    {
     "data": {
      "image/png": "[encoded data removed]",
      "text/plain": [
       "<matplotlib.figure.Figure at 0x7f60440a7650>"
      ]
     },
     "metadata": {},
     "output_type": "display_data"
    }
   ],
   "source": [
    "%matplotlib inline\n",
    "matplotlib.pyplot.scatter(np.asarray(inputs.tolist()),np.asarray(labels.tolist()),color='g',marker='x')\n",
    "matplotlib.pyplot.plot( inputs,regd.predict(inputs),'r')"
   ]
  },
  {
   "cell_type": "code",
   "execution_count": 113,
   "metadata": {
    "collapsed": false
   },
   "outputs": [],
   "source": [
    "predictions=regd.predict(inputs)\n",
    "rss=zip(inputs,labels,inputs+labels)\n",
    "rss=sorted(rss ,key=lambda x: x[1],reverse=True)\n",
    "rss=sorted(rss ,key=lambda x: x[0],reverse=True)\n",
    "#rss=sorted(rss ,key=lambda x: x[2],reverse=True)\n",
    "    #10%\n",
    "#cleaned_data = rss[int(.1*len(predictions)):]"
   ]
  },
  {
   "cell_type": "code",
   "execution_count": 114,
   "metadata": {
    "collapsed": false
   },
   "outputs": [
    {
     "data": {
      "text/plain": [
       "[(array([ 1111258.]), array([ 5600000.]), array([ 6711258.])),\n",
       " (array([ 1072321.]), array([ 7000000.]), array([ 8072321.])),\n",
       " (array([ 1060932.]), array([ 2000000.]), array([ 3060932.])),\n",
       " (array([ 655037.]), array([ 300000.]), array([ 955037.])),\n",
       " (array([ 510364.]), array([ 3000000.]), array([ 3510364.])),\n",
       " (array([ 492375.]), array([ 800000.]), array([ 1292375.])),\n",
       " (array([ 440698.]), array([ 1300000.]), array([ 1740698.])),\n",
       " (array([ 428780.]), array([ 1500000.]), array([ 1928780.])),\n",
       " (array([ 420636.]), array([ 1750000.]), array([ 2170636.])),\n",
       " (array([ 415189.]), array([ 1000000.]), array([ 1415189.]))]"
      ]
     },
     "execution_count": 114,
     "metadata": {},
     "output_type": "execute_result"
    }
   ],
   "source": [
    "rss[:10]"
   ]
  },
  {
   "cell_type": "code",
   "execution_count": 116,
   "metadata": {
    "collapsed": false
   },
   "outputs": [
    {
     "name": "stdout",
     "output_type": "stream",
     "text": [
      "('LAY KENNETH L', {'salary': 1072321, 'to_messages': 4273, 'deferral_payments': 202911, 'total_payments': 103559793, 'exercised_stock_options': 34348384, 'bonus': 7000000, 'restricted_stock': 14761694, 'shared_receipt_with_poi': 2411, 'restricted_stock_deferred': 'NaN', 'total_stock_value': 49110078, 'expenses': 99832, 'loan_advances': 81525000, 'from_messages': 36, 'other': 10359729, 'from_this_person_to_poi': 16, 'poi': True, 'director_fees': 'NaN', 'deferred_income': -300000, 'long_term_incentive': 3600000, 'email_address': 'kenneth.lay@enron.com', 'from_poi_to_this_person': 123})\n"
     ]
    }
   ],
   "source": [
    "n=1\n",
    "for d in data_dict.items():\n",
    "    if d[1]['salary']==rss[n][0][0] or d[1]['bonus']==rss[n][1][0]:\n",
    "        print d "
   ]
  },
  {
   "cell_type": "code",
   "execution_count": null,
   "metadata": {
    "collapsed": true
   },
   "outputs": [],
   "source": []
  },
  {
   "cell_type": "code",
   "execution_count": null,
   "metadata": {
    "collapsed": true
   },
   "outputs": [],
   "source": []
  }
 ],
 "metadata": {
  "kernelspec": {
   "display_name": "Python 2",
   "language": "python",
   "name": "python2"
  },
  "language_info": {
   "codemirror_mode": {
    "name": "ipython",
    "version": 2
   },
   "file_extension": ".py",
   "mimetype": "text/x-python",
   "name": "python",
   "nbconvert_exporter": "python",
   "pygments_lexer": "ipython2",
   "version": "2.7.11"
  }
 },
 "nbformat": 4,
 "nbformat_minor": 0
}
