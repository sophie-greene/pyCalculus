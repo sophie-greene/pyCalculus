{
 "cells": [
  {
   "cell_type": "code",
   "execution_count": 2,
   "metadata": {
    "collapsed": false
   },
   "outputs": [],
   "source": [
    "#!/usr/bin/python\n",
    "\n",
    "\"\"\" \n",
    "    Starter code for exploring the Enron dataset (emails + finances);\n",
    "    loads up the dataset (pickled dict of dicts).\n",
    "\n",
    "    The dataset has the form:\n",
    "    enron_data[\"LASTNAME FIRSTNAME MIDDLEINITIAL\"] = { features_dict }\n",
    "\n",
    "    {features_dict} is a dictionary of features associated with that person.\n",
    "    You should explore features_dict as part of the mini-project,\n",
    "    but here's an example to get you started:\n",
    "\n",
    "    enron_data[\"SKILLING JEFFREY K\"][\"bonus\"] = 5600000\n",
    "    \n",
    "\"\"\"\n",
    "\n",
    "import pickle\n",
    "\n",
    "enron_data = pickle.load(open(\"final_project/final_project_dataset.pkl\", \"r\"))\n"
   ]
  },
  {
   "cell_type": "code",
   "execution_count": 5,
   "metadata": {
    "collapsed": false
   },
   "outputs": [
    {
     "data": {
      "text/plain": [
       "146"
      ]
     },
     "execution_count": 5,
     "metadata": {},
     "output_type": "execute_result"
    }
   ],
   "source": [
    "len(enron_data)"
   ]
  },
  {
   "cell_type": "code",
   "execution_count": 80,
   "metadata": {
    "collapsed": false
   },
   "outputs": [],
   "source": [
    "cnt=0\n",
    "for k in enron_data.keys():\n",
    "    #print k\n",
    "    if enron_data[k]['poi']:\n",
    "        cnt+=1"
   ]
  },
  {
   "cell_type": "code",
   "execution_count": 21,
   "metadata": {
    "collapsed": false
   },
   "outputs": [
    {
     "data": {
      "text/plain": [
       "18"
      ]
     },
     "execution_count": 21,
     "metadata": {},
     "output_type": "execute_result"
    }
   ],
   "source": [
    "cnt"
   ]
  },
  {
   "cell_type": "code",
   "execution_count": 116,
   "metadata": {
    "collapsed": false
   },
   "outputs": [
    {
     "name": "stdout",
     "output_type": "stream",
     "text": [
      "35\r\n"
     ]
    }
   ],
   "source": [
    "#How many POI’s were there total? \n",
    "!cat final_project/poi_names.txt | grep \"^(\" | wc -l\n"
   ]
  },
  {
   "cell_type": "code",
   "execution_count": 121,
   "metadata": {
    "collapsed": false
   },
   "outputs": [
    {
     "data": {
      "text/plain": [
       "['LAY KENNETH',\n",
       " 'SKILLING JEFFREY',\n",
       " 'HOWARD KEVIN',\n",
       " 'KRAUTZ MICHAEL',\n",
       " 'YEAGER SCOTT',\n",
       " 'HIRKO JOSEPH',\n",
       " 'SHELBY REX',\n",
       " 'BERMINGHAM DAVID',\n",
       " 'DARBY GILES',\n",
       " 'MULGREW GARY',\n",
       " 'BAYLEY DANIEL',\n",
       " 'BROWN JAMES',\n",
       " 'FURST ROBERT',\n",
       " 'FUHS WILLIAM',\n",
       " 'CAUSEY RICHARD',\n",
       " 'CALGER CHRISTOPHER',\n",
       " 'DESPAIN TIMOTHY',\n",
       " 'HANNON KEVIN',\n",
       " 'KOENIG MARK',\n",
       " 'FORNEY JOHN',\n",
       " 'RICE KENNETH',\n",
       " 'RIEKER PAULA',\n",
       " 'FASTOW LEA',\n",
       " 'FASTOW ANDREW',\n",
       " 'DELAINEY DAVID',\n",
       " 'GLISAN BEN',\n",
       " 'RICHTER JEFFREY',\n",
       " 'LAWYER LARRY',\n",
       " 'BELDEN TIMOTHY',\n",
       " 'KOPPER MICHAEL',\n",
       " 'DUNCAN DAVID',\n",
       " 'BOWEN RAYMOND',\n",
       " 'COLWELL WESLEY',\n",
       " 'BOYLE DAN',\n",
       " 'LOEHR CHRISTOPHER']"
      ]
     },
     "execution_count": 121,
     "metadata": {},
     "output_type": "execute_result"
    }
   ],
   "source": [
    "#How many POI’s were there total? \n",
    "import sys\n",
    "import re\n",
    "filename = 'final_project/poi_names.txt' \n",
    "fl = open(filename)\n",
    "content = fl.readlines()[2:]\n",
    "content=[c.strip('^\\(y\\)').strip('^\\(n\\)').strip('\\n').strip().upper().replace(',','') for c in content]\n",
    "\n",
    "content"
   ]
  },
  {
   "cell_type": "code",
   "execution_count": 122,
   "metadata": {
    "collapsed": false
   },
   "outputs": [
    {
     "data": {
      "text/plain": [
       "15"
      ]
     },
     "execution_count": 122,
     "metadata": {},
     "output_type": "execute_result"
    }
   ],
   "source": [
    "cnt=0\n",
    "for k in enron_data.keys():\n",
    "    #print k\n",
    "    for c in content:  \n",
    "        if k.find(c)>=0:\n",
    "            if enron_data[k]['poi']:\n",
    "                #4print c,k,enron_data[k]['poi']\n",
    "                cnt+=1\n",
    "        \n",
    "cnt"
   ]
  },
  {
   "cell_type": "code",
   "execution_count": 128,
   "metadata": {
    "collapsed": false
   },
   "outputs": [
    {
     "data": {
      "text/plain": [
       "1095040"
      ]
     },
     "execution_count": 128,
     "metadata": {},
     "output_type": "execute_result"
    }
   ],
   "source": [
    "enron_data['Prentice James'.upper()]['total_stock_value']"
   ]
  },
  {
   "cell_type": "code",
   "execution_count": 133,
   "metadata": {
    "collapsed": false
   },
   "outputs": [
    {
     "name": "stdout",
     "output_type": "stream",
     "text": [
      "{'salary': 288542, 'to_messages': 1758, 'deferral_payments': 27610, 'total_payments': 1490344, 'exercised_stock_options': 'NaN', 'bonus': 1200000, 'restricted_stock': 698242, 'shared_receipt_with_poi': 1132, 'restricted_stock_deferred': 'NaN', 'total_stock_value': 698242, 'expenses': 16514, 'loan_advances': 'NaN', 'from_messages': 40, 'other': 101740, 'from_this_person_to_poi': 11, 'poi': True, 'director_fees': 'NaN', 'deferred_income': -144062, 'long_term_incentive': 'NaN', 'email_address': 'wes.colwell@enron.com', 'from_poi_to_this_person': 240}\n"
     ]
    }
   ],
   "source": [
    "print enron_data['Colwell Wesley'.upper()]"
   ]
  },
  {
   "cell_type": "code",
   "execution_count": 142,
   "metadata": {
    "collapsed": false
   },
   "outputs": [
    {
     "name": "stdout",
     "output_type": "stream",
     "text": [
      "LAY KENNETH L 103559793\n",
      "FASTOW ANDREW S 2424083\n",
      "SKILLING JEFFREY K 8682716\n"
     ]
    }
   ],
   "source": [
    "for k in enron_data.keys():\n",
    "    if k.find('Skilling Jeffrey'.upper())>=0 or k.find('lay Kenneth'.upper())>=0 or k.find('Fastow Andrew'.upper())>=0:\n",
    "        print k,enron_data[k]['total_payments']\n",
    "#enron_data['Skilling Jeffrey'.upper()]['exercised_stock_options']"
   ]
  },
  {
   "cell_type": "code",
   "execution_count": 155,
   "metadata": {
    "collapsed": false
   },
   "outputs": [],
   "source": [
    "import numpy as np\n",
    "scnt=0\n",
    "ecnt=0\n",
    "for k in enron_data.keys():\n",
    "    if str( enron_data[k]['salary'])!='NaN':\n",
    "        scnt+=1\n",
    "    if str(enron_data[k]['email_address'])!='NaN':\n",
    "        ecnt+=1\n",
    "    "
   ]
  },
  {
   "cell_type": "code",
   "execution_count": 157,
   "metadata": {
    "collapsed": false
   },
   "outputs": [
    {
     "name": "stdout",
     "output_type": "stream",
     "text": [
      "95 111\n"
     ]
    }
   ],
   "source": [
    "print scnt, ecnt"
   ]
  },
  {
   "cell_type": "code",
   "execution_count": 159,
   "metadata": {
    "collapsed": false
   },
   "outputs": [],
   "source": [
    "#!cat feature_format.py\n",
    "import feature_format"
   ]
  },
  {
   "cell_type": "code",
   "execution_count": 187,
   "metadata": {
    "collapsed": false
   },
   "outputs": [
    {
     "data": {
      "text/plain": [
       "array([[  3.65788000e+05,   8.07000000e+02,   0.00000000e+00, ...,\n",
       "          5.85062000e+05,   7.02000000e+02,   0.00000000e+00],\n",
       "       [  2.67102000e+05,   0.00000000e+00,   1.29573800e+06, ...,\n",
       "          3.94271400e+06,   0.00000000e+00,   0.00000000e+00],\n",
       "       [  1.70941000e+05,   0.00000000e+00,   0.00000000e+00, ...,\n",
       "          1.78839100e+06,   0.00000000e+00,   0.00000000e+00],\n",
       "       ..., \n",
       "       [  2.65214000e+05,   5.33000000e+02,   2.27449000e+05, ...,\n",
       "          5.63798000e+05,   3.00000000e+02,   0.00000000e+00],\n",
       "       [  2.78601000e+05,   8.65000000e+02,   0.00000000e+00, ...,\n",
       "          3.15068000e+05,   7.72000000e+02,   0.00000000e+00],\n",
       "       [  2.74975000e+05,   8.73000000e+02,   0.00000000e+00, ...,\n",
       "          3.93818000e+05,   8.74000000e+02,   0.00000000e+00]])"
      ]
     },
     "execution_count": 187,
     "metadata": {},
     "output_type": "execute_result"
    }
   ],
   "source": [
    "feature_format.featureFormat(\n",
    "    enron_data,\n",
    "    features=features)"
   ]
  },
  {
   "cell_type": "code",
   "execution_count": 198,
   "metadata": {
    "collapsed": false
   },
   "outputs": [
    {
     "data": {
      "text/plain": [
       "['salary',\n",
       " 'to_messages',\n",
       " 'deferral_payments',\n",
       " 'total_payments',\n",
       " 'exercised_stock_options',\n",
       " 'bonus',\n",
       " 'restricted_stock',\n",
       " 'shared_receipt_with_poi',\n",
       " 'restricted_stock_deferred',\n",
       " 'total_stock_value',\n",
       " 'expenses',\n",
       " 'loan_advances',\n",
       " 'from_messages',\n",
       " 'other',\n",
       " 'from_this_person_to_poi',\n",
       " 'poi',\n",
       " 'director_fees',\n",
       " 'deferred_income',\n",
       " 'long_term_incentive',\n",
       " 'email_address',\n",
       " 'from_poi_to_this_person']"
      ]
     },
     "execution_count": 198,
     "metadata": {},
     "output_type": "execute_result"
    }
   ],
   "source": [
    "enron_data[enron_data.keys()[0]].keys()"
   ]
  },
  {
   "cell_type": "code",
   "execution_count": 185,
   "metadata": {
    "collapsed": false
   },
   "outputs": [],
   "source": [
    "features=['salary',\n",
    " 'to_messages',\n",
    " 'deferral_payments',\n",
    " 'total_payments',\n",
    " 'exercised_stock_options',\n",
    " 'bonus',\n",
    " 'restricted_stock',\n",
    " 'shared_receipt_with_poi',\n",
    " 'restricted_stock_deferred']"
   ]
  },
  {
   "cell_type": "code",
   "execution_count": 196,
   "metadata": {
    "collapsed": false
   },
   "outputs": [
    {
     "data": {
      "text/plain": [
       "146"
      ]
     },
     "execution_count": 196,
     "metadata": {},
     "output_type": "execute_result"
    }
   ],
   "source": [
    "len(feature_format.targetFeatureSplit(enron_data)[0])"
   ]
  },
  {
   "cell_type": "code",
   "execution_count": 203,
   "metadata": {
    "collapsed": false
   },
   "outputs": [
    {
     "data": {
      "text/plain": [
       "21"
      ]
     },
     "execution_count": 203,
     "metadata": {},
     "output_type": "execute_result"
    }
   ],
   "source": [
    "import numpy as np\n",
    "tcnt=0\n",
    "for k in enron_data.keys():\n",
    "    if str( enron_data[k]['total_payments'])=='NaN':\n",
    "        tcnt+=1\n",
    "tcnt"
   ]
  },
  {
   "cell_type": "code",
   "execution_count": 201,
   "metadata": {
    "collapsed": false
   },
   "outputs": [
    {
     "data": {
      "text/plain": [
       "146"
      ]
     },
     "execution_count": 201,
     "metadata": {},
     "output_type": "execute_result"
    }
   ],
   "source": [
    "len(enron_data)"
   ]
  },
  {
   "cell_type": "code",
   "execution_count": 204,
   "metadata": {
    "collapsed": false
   },
   "outputs": [
    {
     "data": {
      "text/plain": [
       "0.14383561643835616"
      ]
     },
     "execution_count": 204,
     "metadata": {},
     "output_type": "execute_result"
    }
   ],
   "source": [
    "21/146.0"
   ]
  },
  {
   "cell_type": "code",
   "execution_count": 209,
   "metadata": {
    "collapsed": false
   },
   "outputs": [
    {
     "data": {
      "text/plain": [
       "0"
      ]
     },
     "execution_count": 209,
     "metadata": {},
     "output_type": "execute_result"
    }
   ],
   "source": [
    "pcnt=0\n",
    "for k in enron_data.keys():\n",
    "    if enron_data[k]['poi'] and str( enron_data[k]['total_payments'])=='NaN':\n",
    "        pcnt+=1\n",
    "pcnt"
   ]
  },
  {
   "cell_type": "code",
   "execution_count": 211,
   "metadata": {
    "collapsed": false
   },
   "outputs": [],
   "source": []
  },
  {
   "cell_type": "code",
   "execution_count": null,
   "metadata": {
    "collapsed": true
   },
   "outputs": [],
   "source": []
  }
 ],
 "metadata": {
  "kernelspec": {
   "display_name": "Python 2",
   "language": "python",
   "name": "python2"
  },
  "language_info": {
   "codemirror_mode": {
    "name": "ipython",
    "version": 2
   },
   "file_extension": ".py",
   "mimetype": "text/x-python",
   "name": "python",
   "nbconvert_exporter": "python",
   "pygments_lexer": "ipython2",
   "version": "2.7.11"
  }
 },
 "nbformat": 4,
 "nbformat_minor": 0
}
