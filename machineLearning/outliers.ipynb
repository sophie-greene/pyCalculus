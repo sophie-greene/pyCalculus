{
 "cells": [
  {
   "cell_type": "code",
   "execution_count": 8,
   "metadata": {
    "collapsed": true
   },
   "outputs": [],
   "source": [
    "def studentReg(ages_train, net_worths_train):\n",
    "    ### import the sklearn regression module, create, and train your regression\n",
    "    from sklearn import linear_model\n",
    "\n",
    "    ### name your regression reg\n",
    "    reg=linear_model.LinearRegression()\n",
    "    ### your code goes here!\n",
    "    reg.fit(ages_train, net_worths_train)\n",
    "    return reg"
   ]
  },
  {
   "cell_type": "code",
   "execution_count": 67,
   "metadata": {
    "collapsed": false
   },
   "outputs": [
    {
     "data": {
      "image/png": "[encoded data removed]",
      "text/plain": [
       "<matplotlib.figure.Figure at 0x7f5719a97fd0>"
      ]
     },
     "metadata": {},
     "output_type": "display_data"
    }
   ],
   "source": [
    "\n",
    "\n",
    "\"\"\"\n",
    "    Starter code for the regression mini-project.\n",
    "    \n",
    "    Loads up/formats a modified version of the dataset\n",
    "    (why modified?  we've removed some trouble points\n",
    "    that you'll find yourself in the outliers mini-project).\n",
    "\n",
    "    Draws a little scatterplot of the training/testing data\n",
    "\n",
    "    You fill in the regression code where indicated:\n",
    "\"\"\"    \n",
    "\n",
    "\n",
    "import sys\n",
    "import pickle\n",
    "import numpy as np\n",
    "sys.path.append(\"tools/\")\n",
    "from feature_format import featureFormat, targetFeatureSplit\n",
    "dictionary = pickle.load( open(\"final_project/final_project_dataset_modified.pkl\", \"r\") )\n",
    "\n",
    "### list the features you want to look at--first item in the \n",
    "### list will be the \"target\" feature\n",
    "features_list = [\"bonus\", \"salary\"]\n",
    "data = featureFormat( dictionary, features_list, remove_any_zeroes=True)\n",
    "target, features = targetFeatureSplit( data )\n",
    "\n",
    "### training-testing split needed in regression, just like classification\n",
    "from sklearn.cross_validation import train_test_split\n",
    "feature_train, feature_test, target_train, target_test = train_test_split(features, target, test_size=0.5, random_state=42)\n",
    "train_color = \"b\"\n",
    "test_color = \"r\"\n",
    "\n",
    "\n",
    "\n",
    "### Your regression goes here!\n",
    "### Please name it reg, so that the plotting code below picks it up and \n",
    "### plots it correctly. Don't forget to change the test_color above from \"b\" to\n",
    "### \"r\" to differentiate training points from test points.\n",
    "\n",
    "reg = studentReg(feature_train, target_train)\n",
    "\n",
    "\n",
    "\n",
    "\n",
    "\n",
    "\n",
    "### draw the scatterplot, with color-coded training and testing points\n",
    "import matplotlib.pyplot as plt\n",
    "%matplotlib inline\n",
    "for feature, target in zip(feature_test, target_test):\n",
    "    plt.scatter( feature, target, color=test_color, marker='x' ) \n",
    "for feature, target in zip(feature_train, target_train):\n",
    "    plt.scatter( feature, target, color=train_color,marker='*' ) \n",
    "\n",
    "### labels for the legend\n",
    "plt.scatter(feature_test[0], target_test[0], color=test_color, marker='x',label=\"test\")\n",
    "plt.scatter(feature_test[0], target_test[0], color=train_color,marker='*',label=\"train\")\n",
    "\n",
    "\n",
    "\n",
    "\n",
    "### draw the regression line, once it's coded\n",
    "regmatrix=[np.asarray([60000.0]),np.asarray([1100000.0])]\n",
    "try:\n",
    "    plt.plot( regmatrix, reg.predict(regmatrix) ,'g')\n",
    "except NameError:\n",
    "    pass\n",
    "plt.xlabel(features_list[1])\n",
    "plt.ylabel(features_list[0])\n",
    "reg.fit(feature_test, target_test)\n",
    "plt.plot(regmatrix, reg.predict(regmatrix), color=\"k\") \n",
    "plt.legend()\n",
    "plt.show()\n"
   ]
  },
  {
   "cell_type": "code",
   "execution_count": 68,
   "metadata": {
    "collapsed": false
   },
   "outputs": [
    {
     "name": "stdout",
     "output_type": "stream",
     "text": [
      "2.27410114127 X 124444.388866\n"
     ]
    }
   ],
   "source": [
    "print reg.coef_[0],'X',reg.intercept_"
   ]
  },
  {
   "cell_type": "code",
   "execution_count": 52,
   "metadata": {
    "collapsed": false
   },
   "outputs": [
    {
     "data": {
      "text/plain": [
       "0.045509192699524359"
      ]
     },
     "execution_count": 52,
     "metadata": {},
     "output_type": "execute_result"
    }
   ],
   "source": [
    "reg.score(feature_train,target_train)"
   ]
  },
  {
   "cell_type": "code",
   "execution_count": 53,
   "metadata": {
    "collapsed": false
   },
   "outputs": [
    {
     "data": {
      "text/plain": [
       "-1.4849924173685101"
      ]
     },
     "execution_count": 53,
     "metadata": {},
     "output_type": "execute_result"
    }
   ],
   "source": [
    "reg.score(feature_test,target_test)"
   ]
  },
  {
   "cell_type": "code",
   "execution_count": 189,
   "metadata": {
    "collapsed": false
   },
   "outputs": [],
   "source": [
    "def outlierCleaner(predictions, ages, net_worths):\n",
    "    \"\"\"\n",
    "        Clean away the 10% of points that have the largest\n",
    "        residual errors (difference between the prediction\n",
    "        and the actual net worth).\n",
    "\n",
    "        Return a list of tuples named cleaned_data where \n",
    "        each tuple is of the form (age, net_worth, error).\n",
    "    \"\"\"\n",
    "    rss=zip(ages,net_worths,pow(predictions-net_worths,2))\n",
    "    rss=sorted(rss ,key=lambda x: x[2],reverse=True)\n",
    "    #10%\n",
    "    cleaned_data = rss[int(.1*len(predictions)):]\n",
    "\n",
    "    ### your code goes here\n",
    "\n",
    "    \n",
    "    return cleaned_data\n",
    "\n"
   ]
  },
  {
   "cell_type": "code",
   "execution_count": 190,
   "metadata": {
    "collapsed": false
   },
   "outputs": [
    {
     "data": {
      "image/png": "[encoded data removed]",
      "text/plain": [
       "<matplotlib.figure.Figure at 0x7f570efa2cd0>"
      ]
     },
     "metadata": {},
     "output_type": "display_data"
    },
    {
     "data": {
      "image/png": "[encoded data removed]",
      "text/plain": [
       "<matplotlib.figure.Figure at 0x7f571578d610>"
      ]
     },
     "metadata": {},
     "output_type": "display_data"
    }
   ],
   "source": [
    "import random\n",
    "import numpy\n",
    "import matplotlib.pyplot as plt\n",
    "import pickle\n",
    "#sys.path.append(\"outliers/\")\n",
    "#from outlier_cleaner import outlierCleaner\n",
    "\n",
    "\n",
    "### load up some practice data with outliers in it\n",
    "ages = pickle.load( open(\"outliers/practice_outliers_ages.pkl\", \"r\") )\n",
    "net_worths = pickle.load( open(\"outliers/practice_outliers_net_worths.pkl\", \"r\") )\n",
    "\n",
    "\n",
    "\n",
    "### ages and net_worths need to be reshaped into 2D numpy arrays\n",
    "### second argument of reshape command is a tuple of integers: (n_rows, n_columns)\n",
    "### by convention, n_rows is the number of data points\n",
    "### and n_columns is the number of features\n",
    "ages       = numpy.reshape( numpy.array(ages), (len(ages), 1))\n",
    "net_worths = numpy.reshape( numpy.array(net_worths), (len(net_worths), 1))\n",
    "from sklearn.cross_validation import train_test_split\n",
    "ages_train, ages_test, net_worths_train, net_worths_test = train_test_split(ages, net_worths, test_size=0.1, random_state=42)\n",
    "\n",
    "### fill in a regression here!  Name the regression object reg so that\n",
    "### the plotting code below works, and you can see what your regression looks like\n",
    "reg=studentReg(ages_train,net_worths_train)\n",
    "try:\n",
    "    plt.plot(ages, reg.predict(ages), color=\"blue\")\n",
    "except NameError:\n",
    "    pass\n",
    "plt.scatter(ages, net_worths)\n",
    "plt.show()\n",
    "\n",
    "\n",
    "### identify and remove the most outlier-y points\n",
    "cleaned_data = []\n",
    "try:\n",
    "    predictions = reg.predict(ages_train)\n",
    "    cleaned_data = outlierCleaner( predictions, ages_train, net_worths_train )\n",
    "except NameError:\n",
    "    print \"your regression object doesn't exist, or isn't name reg\"\n",
    "    print \"can't make predictions to use in identifying outliers\"\n",
    "\n",
    "\n",
    "### only run this code if cleaned_data is returning data\n",
    "if len(cleaned_data) > 0:\n",
    "    ages, net_worths, errors = zip(*cleaned_data)\n",
    "    ages       = numpy.reshape( numpy.array(ages), (len(ages), 1))\n",
    "    net_worths = numpy.reshape( numpy.array(net_worths), (len(net_worths), 1))\n",
    "\n",
    "    ### refit your cleaned data!\n",
    "    try:\n",
    "        reg1=studentReg(ages, net_worths)\n",
    "        plt.plot(ages, reg1.predict(ages), color=\"blue\")\n",
    "    except NameError:\n",
    "        print \"you don't seem to have regression imported/created,\"\n",
    "        print \"   or else your regression object isn't named reg\"\n",
    "        print \"   either way, only draw the scatter plot of the cleaned data\"\n",
    "    plt.scatter(ages, net_worths)\n",
    "    plt.xlabel(\"ages\")\n",
    "    plt.ylabel(\"net worths\")\n",
    "    plt.show()\n",
    "\n",
    "\n",
    "else:\n",
    "    print \"outlierCleaner() is returning an empty list, no refitting to be done\"\n"
   ]
  },
  {
   "cell_type": "code",
   "execution_count": 191,
   "metadata": {
    "collapsed": false
   },
   "outputs": [
    {
     "name": "stdout",
     "output_type": "stream",
     "text": [
      "[[ 5.07793064]] [[ 6.36859481]]\n",
      "0.878262470366\n",
      "0.983189455396\n"
     ]
    }
   ],
   "source": [
    "print reg.coef_,reg1.coef_\n",
    "print reg.score(ages_test,net_worths_test)\n",
    "print reg1.score(ages_test,net_worths_test)"
   ]
  },
  {
   "cell_type": "code",
   "execution_count": 222,
   "metadata": {
    "collapsed": false
   },
   "outputs": [
    {
     "data": {
      "text/plain": [
       "[<matplotlib.lines.Line2D at 0x7f57142b50d0>]"
      ]
     },
     "execution_count": 222,
     "metadata": {},
     "output_type": "execute_result"
    },
    {
     "data": {
      "image/png": "[encoded data removed]",
      "text/plain": [
       "<matplotlib.figure.Figure at 0x7f5715cc5d50>"
      ]
     },
     "metadata": {},
     "output_type": "display_data"
    }
   ],
   "source": [
    "import pickle\n",
    "import sys\n",
    "import matplotlib.pyplot\n",
    "sys.path.append(\"tools/\")\n",
    "from feature_format import featureFormat, targetFeatureSplit\n",
    "\n",
    "\n",
    "### read in data dictionary, convert to numpy array\n",
    "data_dict = pickle.load( open(\"final_project/final_project_dataset.pkl\", \"r\") )\n",
    "features = [\"salary\", \"bonus\"]\n",
    "data = featureFormat(data_dict, features)\n",
    "inputs=np.asarray(data[:,0]).reshape(len(data),-1)\n",
    "labels=np.asarray(data[:,1]).reshape(len(data),-1)\n",
    "regd=studentReg(inputs,labels)\n",
    "\n",
    "### your code below\n",
    "\n",
    "matplotlib.pyplot.scatter(np.asarray(inputs.tolist()),np.asarray(labels.tolist()),color='g',marker='x')\n",
    "matplotlib.pyplot.plot( inputs,regd.predict(inputs),'r')"
   ]
  },
  {
   "cell_type": "code",
   "execution_count": 217,
   "metadata": {
    "collapsed": false
   },
   "outputs": [],
   "source": [
    "predictions=regd.predict(inputs)\n",
    "names=np.asarray(data_dict.keys())\n",
    "rss=zip(names,inputs,labels)\n",
    "rss=sorted(rss ,key=lambda x: x[2],reverse=True)\n",
    "#10%\n",
    "cleaned_data = rss[int(.1*len(predictions)):]"
   ]
  },
  {
   "cell_type": "code",
   "execution_count": 220,
   "metadata": {
    "collapsed": false
   },
   "outputs": [
    {
     "name": "stdout",
     "output_type": "stream",
     "text": [
      "{'salary': 26704229, 'to_messages': 'NaN', 'deferral_payments': 32083396, 'total_payments': 309886585, 'exercised_stock_options': 311764000, 'bonus': 97343619, 'restricted_stock': 130322299, 'shared_receipt_with_poi': 'NaN', 'restricted_stock_deferred': -7576788, 'total_stock_value': 434509511, 'expenses': 5235198, 'loan_advances': 83925000, 'from_messages': 'NaN', 'other': 42667589, 'from_this_person_to_poi': 'NaN', 'poi': False, 'director_fees': 1398517, 'deferred_income': -27992891, 'long_term_incentive': 48521928, 'email_address': 'NaN', 'from_poi_to_this_person': 'NaN'}\n"
     ]
    },
    {
     "data": {
      "text/plain": [
       "[('OLSON CINDY K', array([ 26704229.]), array([ 97343619.])),\n",
       " ('WODRASKA JOHN', array([ 339288.]), array([ 8000000.])),\n",
       " ('KOPPER MICHAEL J', array([ 1072321.]), array([ 7000000.])),\n",
       " ('LINDHOLM TOD A', array([ 1111258.]), array([ 5600000.])),\n",
       " ('SHELBY REX', array([ 213999.]), array([ 5249999.])),\n",
       " ('GAHN ROBERT S', array([ 201955.]), array([ 4175000.])),\n",
       " ('COLWELL WESLEY', array([ 271442.]), array([ 3100000.])),\n",
       " ('HICKERSON GARY J', array([ 510364.]), array([ 3000000.])),\n",
       " ('LEWIS RICHARD', array([ 365163.]), array([ 3000000.])),\n",
       " ('MORDAUNT KRISTINA M', array([ 370448.]), array([ 2600000.])),\n",
       " ('FASTOW ANDREW S', array([ 304588.]), array([ 2500000.])),\n",
       " ('MULLER MARK S', array([ 304110.]), array([ 2000000.])),\n",
       " ('BELDEN TIMOTHY N', array([ 1060932.]), array([ 2000000.])),\n",
       " ('MCCONNELL MICHAEL S', array([ 420636.]), array([ 1750000.])),\n",
       " ('CHAN RONNIE', array([ 211788.]), array([ 1700000.])),\n",
       " ('CORDES WILLIAM R', array([ 243293.]), array([ 1500000.])),\n",
       " ('BECK SALLY W', array([ 428780.]), array([ 1500000.])),\n",
       " ('BANNANTINE JAMES M', array([ 278601.]), array([ 1350000.])),\n",
       " ('KISHKILL JOSEPH G', array([ 440698.]), array([ 1300000.])),\n",
       " ('WHALLEY LAWRENCE G', array([ 240189.]), array([ 1250000.])),\n",
       " ('BAXTER JOHN C', array([ 267102.]), array([ 1200000.])),\n",
       " ('UMANOFF ADAM S', array([ 288542.]), array([ 1200000.])),\n",
       " ('GOLD JOSEPH', array([ 374125.]), array([ 1150000.])),\n",
       " ('BLACHMAN JEREMY M', array([ 251654.]), array([ 1100000.])),\n",
       " ('CLINE KENNETH W', array([ 365038.]), array([ 1100000.])),\n",
       " ('WESTFAHL RICHARD K', array([ 213625.]), array([ 1000000.])),\n",
       " ('SHANKMAN JEFFREY A', array([ 273746.]), array([ 1000000.])),\n",
       " ('BUTTS ROBERT H', array([ 404338.]), array([ 1000000.])),\n",
       " ('SCRIMSHAW MATTHEW', array([ 262788.]), array([ 1000000.])),\n",
       " ('DURAN WILLIAM D', array([ 261879.]), array([ 1000000.])),\n",
       " ('COX DAVID', array([ 415189.]), array([ 1000000.])),\n",
       " ('WAKEHAM JOHN', array([ 263413.]), array([ 900000.])),\n",
       " ('LOCKHART EUGENE E', array([ 330546.]), array([ 900000.])),\n",
       " ('PIPER GREGORY F', array([ 248546.]), array([ 850000.])),\n",
       " ('LOWRY CHARLES P', array([ 357091.]), array([ 850000.])),\n",
       " ('GILLIS JOHN', array([ 231946.]), array([ 850000.])),\n",
       " ('BELFER ROBERT', array([ 224305.]), array([ 800000.])),\n",
       " ('DELAINEY DAVID W', array([ 314288.]), array([ 800000.])),\n",
       " ('BAZELIDES PHILIP J', array([ 492375.]), array([ 800000.])),\n",
       " ('PEREIRA PAULO V. FERRAZ', array([ 278601.]), array([ 800000.])),\n",
       " ('HORTON STANLEY C', array([ 288589.]), array([ 788750.])),\n",
       " ('BIBI PHILIPPE A', array([ 272880.]), array([ 750000.])),\n",
       " ('LEFF DANIEL P', array([ 261516.]), array([ 750000.])),\n",
       " ('LAVORATO JOHN J', array([ 329078.]), array([ 750000.])),\n",
       " ('LEMAISTRE CHARLES', array([ 210692.]), array([ 750000.])),\n",
       " ('HUMPHREY GENE E', array([ 257486.]), array([ 700000.])),\n",
       " ('WALTERS GARETH W', array([ 249201.]), array([ 700000.])),\n",
       " ('WALLS JR ROBERT H', array([ 231330.]), array([ 700000.])),\n",
       " ('POWERS WILLIAM', array([ 262663.]), array([ 700000.])),\n",
       " ('FOY JOE', array([ 309946.]), array([ 700000.])),\n",
       " ('WHALEY DAVID A', array([ 269076.]), array([ 650000.])),\n",
       " ('METTS MARK', array([ 365788.]), array([ 600000.])),\n",
       " ('ECHOLS JOHN B', array([ 206121.]), array([ 600000.])),\n",
       " ('MCCLELLAN GEORGE', array([ 248146.]), array([ 600000.])),\n",
       " ('REDMOND BRIAN L', array([ 250100.]), array([ 600000.])),\n",
       " ('OVERDYKE JR JERE C', array([ 265214.]), array([ 600000.])),\n",
       " ('STABLER FRANK', array([ 274975.]), array([ 600000.])),\n",
       " ('DETMERING TIMOTHY J', array([ 192008.]), array([ 509870.])),\n",
       " ('WROBEL BRUCE', array([ 239502.]), array([ 500000.])),\n",
       " ('HAEDICKE MARK E', array([ 248017.]), array([ 500000.])),\n",
       " ('CUMBERLAND MICHAEL S', array([ 317543.]), array([ 450000.])),\n",
       " ('URQUHART JOHN A', array([ 210500.]), array([ 425000.])),\n",
       " ('MEYER ROCKFORD G', array([ 197091.]), array([ 400000.])),\n",
       " ('PIRO JIM', array([ 275101.]), array([ 400000.])),\n",
       " ('BOWEN JR RAYMOND M', array([ 229284.]), array([ 400000.])),\n",
       " ('THORN TERENCE H', array([ 239671.]), array([ 400000.])),\n",
       " ('ELLIOTT STEVEN', array([ 170941.]), array([ 350000.])),\n",
       " ('DUNCAN JOHN H', array([ 199157.]), array([ 350000.])),\n",
       " ('HANNON KEVIN P', array([ 267093.]), array([ 325000.])),\n",
       " ('BERBERIAN DAVID', array([ 184899.]), array([ 325000.])),\n",
       " ('MCDONALD REBECCA', array([ 259996.]), array([ 325000.])),\n",
       " ('LAY KENNETH L', array([ 655037.]), array([ 300000.])),\n",
       " ('GATHMANN WILLIAM D', array([ 261809.]), array([ 300000.])),\n",
       " ('RICE KENNETH D', array([ 247338.]), array([ 300000.])),\n",
       " ('SUNDE MARTIN', array([ 288558.]), array([ 250000.])),\n",
       " ('JACKSON CHARLENE R', array([ 187922.]), array([ 250000.])),\n",
       " ('KITCHEN LOUISE', array([ 182245.]), array([ 200000.])),\n",
       " ('HAUG DAVID L', array([ 211844.]), array([ 200000.])),\n",
       " ('MCCARTY DANNY J', array([ 236457.]), array([ 200000.])),\n",
       " ('HAYES ROBERT E', array([ 162779.]), array([ 100000.])),\n",
       " ('HERMANN ROBERT J', array([ 76399.]), array([ 100000.])),\n",
       " ('FITZGERALD JAY L', array([ 221003.]), array([ 70000.])),\n",
       " ('MCMAHON JEFFREY', array([ 130724.]), array([ 0.])),\n",
       " ('GIBBS DANA R', array([ 63744.]), array([ 0.])),\n",
       " ('BERGSIEKER RICHARD P', array([ 216582.]), array([ 0.])),\n",
       " ('RIEKER PAULA H', array([ 477.]), array([ 0.])),\n",
       " ('MENDELSOHN JOHN', array([ 174246.]), array([ 0.])),\n",
       " ('SHAPIRO RICHARD S', array([ 96840.]), array([ 0.])),\n",
       " ('SHERRIFF JOHN R', array([ 80818.]), array([ 0.])),\n",
       " ('DEFFNER JOSEPH M', array([ 222093.]), array([ 0.])),\n",
       " ('SULLIVAN-SHAKLOVITZ COLLEEN', array([ 94941.]), array([ 0.])),\n",
       " ('MEYER JEROME J', array([ 6615.]), array([ 0.])),\n",
       " ('MORAN MICHAEL P', array([ 158403.]), array([ 0.])),\n",
       " ('CALGER CHRISTOPHER F', array([ 85274.]), array([ 0.])),\n",
       " ('KAMINSKI WINCENTY J', array([ 349487.]), array([ 0.]))]"
      ]
     },
     "execution_count": 220,
     "metadata": {},
     "output_type": "execute_result"
    }
   ],
   "source": [
    "print data_dict['TOTAL']\n",
    "rss\n"
   ]
  },
  {
   "cell_type": "code",
   "execution_count": 221,
   "metadata": {
    "collapsed": false
   },
   "outputs": [
    {
     "name": "stdout",
     "output_type": "stream",
     "text": [
      "('LAVORATO JOHN J', {'salary': 339288, 'to_messages': 7259, 'deferral_payments': 'NaN', 'total_payments': 10425757, 'exercised_stock_options': 4158995, 'bonus': 8000000, 'restricted_stock': 1008149, 'shared_receipt_with_poi': 3962, 'restricted_stock_deferred': 'NaN', 'total_stock_value': 5167144, 'expenses': 49537, 'loan_advances': 'NaN', 'from_messages': 2585, 'other': 1552, 'from_this_person_to_poi': 411, 'poi': False, 'director_fees': 'NaN', 'deferred_income': 'NaN', 'long_term_incentive': 2035380, 'email_address': 'john.lavorato@enron.com', 'from_poi_to_this_person': 528})\n"
     ]
    }
   ],
   "source": [
    "for d in data_dict.items():\n",
    "    if d[1]['salary']==339288 or d[1]['bonus']==8000000:\n",
    "        print d "
   ]
  },
  {
   "cell_type": "code",
   "execution_count": 205,
   "metadata": {
    "collapsed": false
   },
   "outputs": [],
   "source": [
    "#data_dict"
   ]
  },
  {
   "cell_type": "code",
   "execution_count": null,
   "metadata": {
    "collapsed": true
   },
   "outputs": [],
   "source": []
  }
 ],
 "metadata": {
  "kernelspec": {
   "display_name": "Python 2",
   "language": "python",
   "name": "python2"
  },
  "language_info": {
   "codemirror_mode": {
    "name": "ipython",
    "version": 2
   },
   "file_extension": ".py",
   "mimetype": "text/x-python",
   "name": "python",
   "nbconvert_exporter": "python",
   "pygments_lexer": "ipython2",
   "version": "2.7.11"
  }
 },
 "nbformat": 4,
 "nbformat_minor": 0
}
