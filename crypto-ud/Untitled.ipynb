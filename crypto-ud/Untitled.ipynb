{
 "cells": [
  {
   "cell_type": "code",
   "execution_count": 3,
   "metadata": {
    "collapsed": true
   },
   "outputs": [],
   "source": [
    "import binascii"
   ]
  },
  {
   "cell_type": "code",
   "execution_count": 4,
   "metadata": {
    "collapsed": false
   },
   "outputs": [
    {
     "name": "stdout",
     "output_type": "stream",
     "text": [
      "1011001\n",
      "1001110\n",
      "0010111\n",
      "1011001\n"
     ]
    }
   ],
   "source": [
    "def bxor(bt,k):\n",
    "    y=[int(i) for i in bt]\n",
    "    k=[int(i) for i in k]\n",
    "    x=[y[i]^k[i] for i in range(len(k))]\n",
    "    return ''.join(str(i) for i in x)\n",
    "y=str(bin(ord('Y'))[2:])\n",
    "n=str(bin(ord('N'))[2:])\n",
    "c='1001110'\n",
    "print y\n",
    "print n\n",
    "k=bxor(y,c)\n",
    "print k\n",
    "nc=bxor(n,k)\n",
    "print nc"
   ]
  },
  {
   "cell_type": "code",
   "execution_count": null,
   "metadata": {
    "collapsed": true
   },
   "outputs": [],
   "source": []
  },
  {
   "cell_type": "code",
   "execution_count": 5,
   "metadata": {
    "collapsed": false
   },
   "outputs": [
    {
     "name": "stdout",
     "output_type": "stream",
     "text": [
      "6683\n",
      "110-110-1000-11\n"
     ]
    }
   ],
   "source": [
    "p='BS'\n",
    "ch=''.join(str(ord(x)) for  x in p)\n",
    "print ch\n",
    "cb='-'.join(bin(int(x))[2:] for  x in ch)\n",
    "print cb"
   ]
  },
  {
   "cell_type": "code",
   "execution_count": 6,
   "metadata": {
    "collapsed": false
   },
   "outputs": [
    {
     "data": {
      "text/plain": [
       "15"
      ]
     },
     "execution_count": 6,
     "metadata": {},
     "output_type": "execute_result"
    }
   ],
   "source": [
    "ct='01101111100101'\n",
    "#bxor(cb,ct)\n",
    "len(cb)\n",
    "#len(ct)"
   ]
  },
  {
   "cell_type": "code",
   "execution_count": null,
   "metadata": {
    "collapsed": true
   },
   "outputs": [],
   "source": []
  },
  {
   "cell_type": "code",
   "execution_count": 7,
   "metadata": {
    "collapsed": false
   },
   "outputs": [
    {
     "data": {
      "text/plain": [
       "'110-110-1000-11'"
      ]
     },
     "execution_count": 7,
     "metadata": {},
     "output_type": "execute_result"
    }
   ],
   "source": [
    "cb"
   ]
  },
  {
   "cell_type": "code",
   "execution_count": 8,
   "metadata": {
    "collapsed": false
   },
   "outputs": [
    {
     "data": {
      "text/plain": [
       "0"
      ]
     },
     "execution_count": 8,
     "metadata": {},
     "output_type": "execute_result"
    }
   ],
   "source": [
    "int(y[1])^int(y[1])"
   ]
  },
  {
   "cell_type": "code",
   "execution_count": 9,
   "metadata": {
    "collapsed": false
   },
   "outputs": [
    {
     "data": {
      "text/plain": [
       "'0'"
      ]
     },
     "execution_count": 9,
     "metadata": {},
     "output_type": "execute_result"
    }
   ],
   "source": [
    "y[1]"
   ]
  },
  {
   "cell_type": "code",
   "execution_count": 10,
   "metadata": {
    "collapsed": false
   },
   "outputs": [
    {
     "data": {
      "text/plain": [
       "-22"
      ]
     },
     "execution_count": 10,
     "metadata": {},
     "output_type": "execute_result"
    }
   ],
   "source": [
    "ord('A')-ord('W')"
   ]
  },
  {
   "cell_type": "code",
   "execution_count": 11,
   "metadata": {
    "collapsed": false
   },
   "outputs": [
    {
     "data": {
      "text/plain": [
       "'0'"
      ]
     },
     "execution_count": 11,
     "metadata": {},
     "output_type": "execute_result"
    }
   ],
   "source": [
    "C1 = \"1010110010011110011111101110011001101100111010001111011101101011101000110010011000000101001110111010010111100100111101001010000011000001010001001001010000000010101001000011100100010011011011011011010111010011000101010111111110010011010111001001010101110001111101010000001011110100000000010010111001111010110000001101010010110101100010011111111011101101001011111001101111101111000100100001000111101111011011001011110011000100011111100001000101111000011101110101110010010100010111101111110011011011001101110111011101100110010100010001100011001010100110001000111100011011001000010101100001110011000000001110001011101111010100101110101000100100010111011000001111001110000011111111111110010111111000011011001010010011100011100001011001101110110001011101011101111110100001111011011000110001011111111101110110101101101001011110110010111101000111011001111\"\n",
    "C2 = \"1011110110100110000001101000010111001000110010000110110001101001111101010000101000110100111010000010011001100100111001101010001001010001000011011001010100001100111011010011111100100101000001001001011001110010010100101011111010001110010010101111110001100010100001110000110001111111001000100001001010100011100100001101010101111000100001111101111110111001000101111111101011001010000100100000001011001001010000101001110101110100001111100001011101100100011000110111110001000100010111110110111010010010011101011111111001011011001010010110100100011001010110110001001000100011011001110111010010010010110100110100000111100001111101111010011000100100110011111011001010101000100000011111010010110111001100011100001111100100110010010001111010111011110110001000111101010110101001110111001110111010011111111010100111000100111001011000111101111101100111011001111\"\n",
    "pad='0'*(8-(len(C1)%8))\n",
    "s=bxor(C1+pad,C2+pad)\n",
    "pad"
   ]
  },
  {
   "cell_type": "code",
   "execution_count": 12,
   "metadata": {
    "collapsed": false
   },
   "outputs": [
    {
     "ename": "NameError",
     "evalue": "name 'letters' is not defined",
     "output_type": "error",
     "traceback": [
      "\u001b[1;31m---------------------------------------------------------------------------\u001b[0m",
      "\u001b[1;31mNameError\u001b[0m                                 Traceback (most recent call last)",
      "\u001b[1;32m<ipython-input-12-dc732e6bb043>\u001b[0m in \u001b[0;36m<module>\u001b[1;34m()\u001b[0m\n\u001b[1;32m----> 1\u001b[1;33m \u001b[0mletters\u001b[0m\u001b[1;33m\u001b[0m\u001b[0m\n\u001b[0m",
      "\u001b[1;31mNameError\u001b[0m: name 'letters' is not defined"
     ]
    }
   ],
   "source": [
    "letters"
   ]
  },
  {
   "cell_type": "code",
   "execution_count": 45,
   "metadata": {
    "collapsed": false
   },
   "outputs": [
    {
     "name": "stdout",
     "output_type": "stream",
     "text": [
      "(17)(56)xc(164) (155)(2)V(44)(49)(211)(131)(128)(18)(2)(144)I(1)(14)I(6)(54)i(35)(161)G(193)(29)(22)i(19)r(14)(139)(35)(60)(217)P(1)(205)(14)(33)T(56)a(37)(0)(19)(38)(46)(33)(176)(64)(6)(28)(20) (208)(1)(146)IB(137)(61)xq(211)(195)(157)(56)F(44)(225)(211)(163)(14)(165)L(0)(146)(49)f(142)(11) (208)qwG(8)(213)(29)X(40) (197)(139)(0)ti(64)c(192)(128)(0)\n"
     ]
    }
   ],
   "source": [
    "#print s\n",
    "\n",
    "def text_from_bits(bits):  \n",
    "    return [int2bytes(bits[i:i+8]) for i in xrange(0,len(bits),8)]\n",
    "def int2bytes(i):\n",
    "    return chr(int(i, 2))\n",
    "def bits_to_text(t):\n",
    "    return ''.join(format(int(binascii.hexlify(x),16),'#010b')[2:] for x in t)\n",
    "def a2b(c):\n",
    "    return ''.join(format(ord(i),'#010b')[2:0] for i in c)\n",
    "t=text_from_bits(s)\n",
    "m=bits_to_text(t)\n",
    "#print len(s)%8\n",
    "#print len(m)%8\n",
    "mg1=[]\n",
    "mg2=[]\n",
    "mg3=[]\n",
    "cnt=0\n",
    "\n",
    "small=range(97,97+26) \n",
    "caps=range(65,65+26)\n",
    "space=[32]\n",
    "letters=caps +space+small\n",
    "px=''\n",
    "for l in letters:\n",
    "    \n",
    "    x=(l^int(binascii.hexlify(t[cnt]),16))\n",
    "    px=chr(x)+\"-\"\n",
    "    pm=\"\"\n",
    "    for m in letters:\n",
    "        \n",
    "        y=(m^int(binascii.hexlify(t[cnt]),16))\n",
    "        px+=chr(y)+\"-\"\n",
    "        px+=chr(m)+\"-\"\n",
    "        if (x in caps or x in small) and l!=32:\n",
    "            mg1.append(chr(x))\n",
    "            mg2.append(chr(l))\n",
    "        \n",
    "    #print pm\n",
    "    #print px                \n",
    "    cnt+=1\n",
    "#print ''.join((q) for q in mg1)\n",
    "#print ''.join((q) for q in mg2)\n",
    "#print ''.join((q) for q in mg3)\n",
    "print ''.join (chr(int(binascii.hexlify(m),16)) if int(binascii.hexlify(m),16) in letters else \"(\"+str(int(binascii.hexlify(m),16))+\")\"  for m in t)"
   ]
  },
  {
   "cell_type": "code",
   "execution_count": 103,
   "metadata": {
    "collapsed": false
   },
   "outputs": [
    {
     "data": {
      "text/plain": [
       "('8',\n",
       " 'ABHIJKLMNOPQRSTUVWYZabhijklmnopqrstuvwyz',\n",
       " 'yzpqrstuvwhijklmnoabYZPQRSTUVWHIJKLMNOAB')"
      ]
     },
     "execution_count": 103,
     "metadata": {},
     "output_type": "execute_result"
    }
   ],
   "source": [
    "d={}\n",
    "for l in letters:\n",
    "    for m in letters:\n",
    "        if str((l^m)) in d.keys():\n",
    "            d[str((l^m))][0].append(chr(l))\n",
    "            d[str((l^m))][1].append(chr(m))\n",
    "        else:\n",
    "            d[str((l^m))]=([[chr(l)],[chr(m)]]) \n",
    "chr(56),''.join(m for m in d['56'][0]),''.join(m for m in d['56'][1])"
   ]
  },
  {
   "cell_type": "code",
   "execution_count": 15,
   "metadata": {
    "collapsed": false
   },
   "outputs": [
    {
     "data": {
      "text/plain": [
       "'01000001'"
      ]
     },
     "execution_count": 15,
     "metadata": {},
     "output_type": "execute_result"
    }
   ],
   "source": [
    "format(int(binascii.hexlify('\\x41'),16), '#010b')[2:]"
   ]
  },
  {
   "cell_type": "code",
   "execution_count": 16,
   "metadata": {
    "collapsed": false
   },
   "outputs": [
    {
     "data": {
      "text/plain": [
       "'11387863a4209b02562c31d3838012029049010e4906366923a147c11d166913720e8b233cd95001cd0e21543861250013262e21b040061c1420d001924942893d7871d3c39d38462ce1d3a30ea54c009231668e0b20d071774708d51d582820c58b0074694063c08000'"
      ]
     },
     "execution_count": 16,
     "metadata": {},
     "output_type": "execute_result"
    }
   ],
   "source": [
    "((binascii.hexlify(''.join(i for i in t))))"
   ]
  },
  {
   "cell_type": "code",
   "execution_count": 17,
   "metadata": {
    "collapsed": false
   },
   "outputs": [
    {
     "data": {
      "text/plain": [
       "'0b0000'"
      ]
     },
     "execution_count": 17,
     "metadata": {},
     "output_type": "execute_result"
    }
   ],
   "source": [
    "format(0, '#06b')"
   ]
  },
  {
   "cell_type": "code",
   "execution_count": 18,
   "metadata": {
    "collapsed": false
   },
   "outputs": [
    {
     "data": {
      "text/plain": [
       "'\\x11'"
      ]
     },
     "execution_count": 18,
     "metadata": {},
     "output_type": "execute_result"
    }
   ],
   "source": [
    "t[0]"
   ]
  },
  {
   "cell_type": "code",
   "execution_count": 19,
   "metadata": {
    "collapsed": false
   },
   "outputs": [
    {
     "data": {
      "text/plain": [
       "'0b01000001'"
      ]
     },
     "execution_count": 19,
     "metadata": {},
     "output_type": "execute_result"
    }
   ],
   "source": [
    "format(ord('A'),'#010b')"
   ]
  },
  {
   "cell_type": "code",
   "execution_count": 20,
   "metadata": {
    "collapsed": false
   },
   "outputs": [
    {
     "data": {
      "text/plain": [
       "'1'"
      ]
     },
     "execution_count": 20,
     "metadata": {},
     "output_type": "execute_result"
    }
   ],
   "source": [
    "chr(ord('A')^ord('p'))"
   ]
  },
  {
   "cell_type": "code",
   "execution_count": 21,
   "metadata": {
    "collapsed": false
   },
   "outputs": [
    {
     "data": {
      "text/plain": [
       "32"
      ]
     },
     "execution_count": 21,
     "metadata": {},
     "output_type": "execute_result"
    }
   ],
   "source": [
    "ord(' ')"
   ]
  },
  {
   "cell_type": "code",
   "execution_count": 22,
   "metadata": {
    "collapsed": true
   },
   "outputs": [],
   "source": [
    "def isAlphaNum(result):\n",
    "    if result>0x60 and result<0x7b or result>0x40 and result<0x5b or result == 0: \n",
    "        return True\n",
    "    return False\n",
    "\n",
    "def isSpace(chr0, chrs): #(int, list of int, int)\n",
    "    mask = 0xe0\n",
    "    for tmp in chrs:\n",
    "        result = tmp ^ chr0\n",
    "        if isAlphaNum(result) == False:\n",
    "            return False\n",
    "    # It is a space. We should use it to decrypt c11 '?'\n",
    "    return True"
   ]
  },
  {
   "cell_type": "code",
   "execution_count": null,
   "metadata": {
    "collapsed": true
   },
   "outputs": [],
   "source": []
  },
  {
   "cell_type": "code",
   "execution_count": 105,
   "metadata": {
    "collapsed": false
   },
   "outputs": [],
   "source": []
  },
  {
   "cell_type": "code",
   "execution_count": null,
   "metadata": {
    "collapsed": false
   },
   "outputs": [],
   "source": []
  },
  {
   "cell_type": "code",
   "execution_count": null,
   "metadata": {
    "collapsed": true
   },
   "outputs": [],
   "source": [
    "#"
   ]
  }
 ],
 "metadata": {
  "kernelspec": {
   "display_name": "Python 2",
   "language": "python",
   "name": "python2"
  },
  "language_info": {
   "codemirror_mode": {
    "name": "ipython",
    "version": 2
   },
   "file_extension": ".py",
   "mimetype": "text/x-python",
   "name": "python",
   "nbconvert_exporter": "python",
   "pygments_lexer": "ipython2",
   "version": "2.7.10"
  }
 },
 "nbformat": 4,
 "nbformat_minor": 0
}
