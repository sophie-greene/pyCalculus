{
 "cells": [
  {
   "cell_type": "code",
   "execution_count": 1,
   "metadata": {
    "collapsed": true
   },
   "outputs": [],
   "source": [
    "import numpy as np\n",
    "import matplotlib.pyplot as plt\n",
    "%matplotlib inline"
   ]
  },
  {
   "cell_type": "code",
   "execution_count": 37,
   "metadata": {
    "collapsed": false
   },
   "outputs": [],
   "source": [
    "def arithmetic(iterable):\n",
    "    it = iter(iterable)\n",
    "    a0=next(it)\n",
    "    b0=next(it)\n",
    "    ratio=b0-a0\n",
    "    cnt=0;\n",
    "    try:\n",
    "        a = a0\n",
    "        b = b0\n",
    "        c = next(it)\n",
    "        while True:\n",
    "            if b-a!=ratio or c-b!=ratio or (cnt!=0 and (a+c)/2 !=b): # <=> a/b != b/c, but uses only int values\n",
    "                print a,b,c\n",
    "                return False\n",
    "            cnt+=1\n",
    "            a, b, c = b, c, next(it)\n",
    "    except StopIteration:\n",
    "        return True"
   ]
  },
  {
   "cell_type": "code",
   "execution_count": 238,
   "metadata": {
    "collapsed": false
   },
   "outputs": [],
   "source": [
    "def geometric(iterable):\n",
    "    if len(iterable)==0:\n",
    "        return False\n",
    "    it = iter(iterable)\n",
    "\n",
    "    a0=next(it)\n",
    "    b0=next(it)\n",
    "    r=b0/a0\n",
    "\n",
    "    try:\n",
    "        a = a0\n",
    "        b = b0\n",
    "        if a == 0 or b == 0:\n",
    "            return False\n",
    "        c = next(it)\n",
    "        while True:\n",
    "            if b/a!=r or c/b!=r or abs(a*c)!=pow(b,2): # <=> a/b != b/c, but uses only int values\n",
    "                print a,b,c,r\n",
    "                return False\n",
    "            a, b, c = b, c, next(it)\n",
    "    except StopIteration:\n",
    "        return True"
   ]
  },
  {
   "cell_type": "code",
   "execution_count": 284,
   "metadata": {
    "collapsed": false
   },
   "outputs": [],
   "source": [
    "a=[2,-3,-7,-13,-18,-23]\n",
    "a=[2,-3,-7,-12,-17,-22]\n",
    "\n",
    "a=[2,-2,-7,-12,-17,-22]\n",
    "\n",
    "a=[2,-3,-8,-14,-19,-24]\n",
    "\n",
    "a=[2,-3,-8,-13,-18,-24]\n",
    "\n",
    "a=[2,-3,-8,-13,-17,-22]\n",
    "\n",
    "a=[2,-3,-8,-13,-18,-23]"
   ]
  },
  {
   "cell_type": "code",
   "execution_count": 285,
   "metadata": {
    "collapsed": false
   },
   "outputs": [
    {
     "name": "stdout",
     "output_type": "stream",
     "text": [
      "[2, -3, -8, -13, -18, -23]\n"
     ]
    },
    {
     "data": {
      "text/plain": [
       "True"
      ]
     },
     "execution_count": 285,
     "metadata": {},
     "output_type": "execute_result"
    }
   ],
   "source": [
    "print a\n",
    "arithmetic(a)"
   ]
  },
  {
   "cell_type": "code",
   "execution_count": 241,
   "metadata": {
    "collapsed": false
   },
   "outputs": [
    {
     "data": {
      "text/plain": [
       "False"
      ]
     },
     "execution_count": 241,
     "metadata": {},
     "output_type": "execute_result"
    }
   ],
   "source": [
    "geometric([])"
   ]
  },
  {
   "cell_type": "code",
   "execution_count": 242,
   "metadata": {
    "collapsed": false
   },
   "outputs": [],
   "source": [
    "m=np.asarray([2,4,16,64])"
   ]
  },
  {
   "cell_type": "code",
   "execution_count": 243,
   "metadata": {
    "collapsed": false
   },
   "outputs": [],
   "source": [
    "def ax(x):\n",
    "    r=-2\n",
    "    return pow(r,x)"
   ]
  },
  {
   "cell_type": "code",
   "execution_count": 244,
   "metadata": {
    "collapsed": false
   },
   "outputs": [],
   "source": [
    "m=3*ax(np.asarray(range(20)))"
   ]
  },
  {
   "cell_type": "code",
   "execution_count": 245,
   "metadata": {
    "collapsed": false
   },
   "outputs": [
    {
     "data": {
      "text/plain": [
       "array([       3,       -6,       12,      -24,       48,      -96,\n",
       "            192,     -384,      768,    -1536,     3072,    -6144,\n",
       "          12288,   -24576,    49152,   -98304,   196608,  -393216,\n",
       "         786432, -1572864])"
      ]
     },
     "execution_count": 245,
     "metadata": {},
     "output_type": "execute_result"
    }
   ],
   "source": [
    "m"
   ]
  },
  {
   "cell_type": "code",
   "execution_count": 246,
   "metadata": {
    "collapsed": false
   },
   "outputs": [
    {
     "data": {
      "text/plain": [
       "True"
      ]
     },
     "execution_count": 246,
     "metadata": {},
     "output_type": "execute_result"
    }
   ],
   "source": [
    "geometric(m)"
   ]
  },
  {
   "cell_type": "code",
   "execution_count": 262,
   "metadata": {
    "collapsed": false
   },
   "outputs": [],
   "source": [
    "#s=[4,-12,36,-144,432,-1296]\n",
    "#s=[4,-8,24,-72,216,-648]\n",
    "#s=[4,-12,36,-108,216,-648]\n",
    "#s=[4,-12,36,-108,324,-648]\n",
    "s=[4,-12,36,-108,324,-972]\n",
    "#s=[4,-12,48,-144,432,-1296]"
   ]
  },
  {
   "cell_type": "code",
   "execution_count": 263,
   "metadata": {
    "collapsed": false
   },
   "outputs": [
    {
     "data": {
      "text/plain": [
       "True"
      ]
     },
     "execution_count": 263,
     "metadata": {},
     "output_type": "execute_result"
    }
   ],
   "source": [
    "geometric(s)"
   ]
  },
  {
   "cell_type": "code",
   "execution_count": null,
   "metadata": {
    "collapsed": false
   },
   "outputs": [],
   "source": []
  },
  {
   "cell_type": "code",
   "execution_count": 249,
   "metadata": {
    "collapsed": false
   },
   "outputs": [
    {
     "ename": "TypeError",
     "evalue": "pow expected at least 2 arguments, got 0",
     "output_type": "error",
     "traceback": [
      "\u001b[1;31m---------------------------------------------------------------------------\u001b[0m",
      "\u001b[1;31mTypeError\u001b[0m                                 Traceback (most recent call last)",
      "\u001b[1;32m<ipython-input-249-ecbee7850f6f>\u001b[0m in \u001b[0;36m<module>\u001b[1;34m()\u001b[0m\n\u001b[1;32m----> 1\u001b[1;33m \u001b[0mpow\u001b[0m\u001b[1;33m(\u001b[0m\u001b[1;33m)\u001b[0m\u001b[1;33m\u001b[0m\u001b[0m\n\u001b[0m",
      "\u001b[1;31mTypeError\u001b[0m: pow expected at least 2 arguments, got 0"
     ]
    }
   ],
   "source": [
    "pow()"
   ]
  },
  {
   "cell_type": "code",
   "execution_count": null,
   "metadata": {
    "collapsed": true
   },
   "outputs": [],
   "source": []
  }
 ],
 "metadata": {
  "kernelspec": {
   "display_name": "Python 2",
   "language": "python",
   "name": "python2"
  },
  "language_info": {
   "codemirror_mode": {
    "name": "ipython",
    "version": 2
   },
   "file_extension": ".py",
   "mimetype": "text/x-python",
   "name": "python",
   "nbconvert_exporter": "python",
   "pygments_lexer": "ipython2",
   "version": "2.7.10"
  }
 },
 "nbformat": 4,
 "nbformat_minor": 0
}
