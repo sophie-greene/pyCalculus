{
 "cells": [
  {
   "cell_type": "code",
   "execution_count": 1,
   "metadata": {
    "collapsed": true
   },
   "outputs": [],
   "source": [
    "import numpy as np"
   ]
  },
  {
   "cell_type": "code",
   "execution_count": 100,
   "metadata": {
    "collapsed": true
   },
   "outputs": [],
   "source": [
    "def an(n):\n",
    "    t=xrange(0,n)\n",
    "    return [2+x for x in t]\n",
    "def bn(n):\n",
    "    t=xrange(0,n)\n",
    "    return [2+(5*x) for x in t]"
   ]
  },
  {
   "cell_type": "code",
   "execution_count": 101,
   "metadata": {
    "collapsed": false
   },
   "outputs": [
    {
     "name": "stdout",
     "output_type": "stream",
     "text": [
      "[2, 3, 4, 5, 6, 7, 8, 9, 10, 11] [2, 7, 12, 17, 22, 27, 32, 37, 42, 47]\n"
     ]
    }
   ],
   "source": [
    "print an(10),bn(10)"
   ]
  },
  {
   "cell_type": "code",
   "execution_count": 102,
   "metadata": {
    "collapsed": false
   },
   "outputs": [
    {
     "data": {
      "text/plain": [
       "array([   4,   20,   53,  108,  190,  304,  455,  648,  888, 1180, 1401,\n",
       "       1560, 1652, 1672, 1615, 1476, 1250,  932,  517])"
      ]
     },
     "execution_count": 102,
     "metadata": {},
     "output_type": "execute_result"
    }
   ],
   "source": [
    "np.convolve(an(10),bn(10))"
   ]
  },
  {
   "cell_type": "code",
   "execution_count": 148,
   "metadata": {
    "collapsed": false
   },
   "outputs": [],
   "source": [
    "def fx(n,x):\n",
    "    t=xrange(0,n)\n",
    "    return sum([(pow(-1,l)*pow(x,2*l+1))/(np.math.factorial(l)*(2.0*l+1) )for l in t])"
   ]
  },
  {
   "cell_type": "code",
   "execution_count": 151,
   "metadata": {
    "collapsed": false
   },
   "outputs": [
    {
     "data": {
      "text/plain": [
       "0.5351535268080788"
      ]
     },
     "execution_count": 151,
     "metadata": {},
     "output_type": "execute_result"
    }
   ],
   "source": [
    "fx(120,.6)"
   ]
  },
  {
   "cell_type": "code",
   "execution_count": 152,
   "metadata": {
    "collapsed": false
   },
   "outputs": [
    {
     "data": {
      "text/plain": [
       "0.5357142857142857"
      ]
     },
     "execution_count": 152,
     "metadata": {},
     "output_type": "execute_result"
    }
   ],
   "source": [
    "15/28.0"
   ]
  },
  {
   "cell_type": "code",
   "execution_count": 94,
   "metadata": {
    "collapsed": true
   },
   "outputs": [],
   "source": [
    "def bn(n):\n",
    "    t=xrange(0,n)\n",
    "    return [1-x for x in t]"
   ]
  },
  {
   "cell_type": "code",
   "execution_count": 97,
   "metadata": {
    "collapsed": false
   },
   "outputs": [
    {
     "data": {
      "text/plain": [
       "array([     1,      0,     -2,     -4,     -5,     -4,      0,      8,\n",
       "           21,     40,     66,    100,    143,    196,    260,    336,\n",
       "          425,    528,    646,    780,    931,   1100,   1288,   1496,\n",
       "         1725,   1976,   2250,   2548,   2871,   3220,   3596,   4000,\n",
       "         4433,   4896,   5390,   5916,   6475,   7068,   7696,   8360,\n",
       "         9061,   9800,  10578,  11396,  12255,  13156,  14100,  15088,\n",
       "        16121,  17200,  18326,  19500,  20723,  21996,  23320,  24696,\n",
       "        26125,  27608,  29146,  30740,  32391,  34100,  35868,  37696,\n",
       "        39585,  41536,  43550,  45628,  47771,  49980,  52256,  54600,\n",
       "        57013,  59496,  62050,  64676,  67375,  70148,  72996,  75920,\n",
       "        78921,  82000,  85158,  88396,  91715,  95116,  98600, 102168,\n",
       "       105821, 109560, 113386, 117300, 121303, 125396, 129580, 133856,\n",
       "       138225, 142688, 147246, 151900, 156849, 161700, 166452, 171104,\n",
       "       175655, 180104, 184450, 188692, 192829, 196860, 200784, 204600,\n",
       "       208307, 211904, 215390, 218764, 222025, 225172, 228204, 231120,\n",
       "       233919, 236600, 239162, 241604, 243925, 246124, 248200, 250152,\n",
       "       251979, 253680, 255254, 256700, 258017, 259204, 260260, 261184,\n",
       "       261975, 262632, 263154, 263540, 263789, 263900, 263872, 263704,\n",
       "       263395, 262944, 262350, 261612, 260729, 259700, 258524, 257200,\n",
       "       255727, 254104, 252330, 250404, 248325, 246092, 243704, 241160,\n",
       "       238459, 235600, 232582, 229404, 226065, 222564, 218900, 215072,\n",
       "       211079, 206920, 202594, 198100, 193437, 188604, 183600, 178424,\n",
       "       173075, 167552, 161854, 155980, 149929, 143700, 137292, 130704,\n",
       "       123935, 116984, 109850, 102532,  95029,  87340,  79464,  71400,\n",
       "        63147,  54704,  46070,  37244,  28225,  19012,   9604])"
      ]
     },
     "execution_count": 97,
     "metadata": {},
     "output_type": "execute_result"
    }
   ],
   "source": [
    "np.convolve(bn(100),bn(100))"
   ]
  },
  {
   "cell_type": "code",
   "execution_count": null,
   "metadata": {
    "collapsed": true
   },
   "outputs": [],
   "source": []
  }
 ],
 "metadata": {
  "kernelspec": {
   "display_name": "Python 2",
   "language": "python",
   "name": "python2"
  },
  "language_info": {
   "codemirror_mode": {
    "name": "ipython",
    "version": 2
   },
   "file_extension": ".py",
   "mimetype": "text/x-python",
   "name": "python",
   "nbconvert_exporter": "python",
   "pygments_lexer": "ipython2",
   "version": "2.7.10"
  }
 },
 "nbformat": 4,
 "nbformat_minor": 0
}
