{
 "cells": [
  {
   "cell_type": "code",
   "execution_count": 1,
   "metadata": {
    "collapsed": true
   },
   "outputs": [],
   "source": [
    "import numpy as np\n",
    "import matplotlib.pyplot as plt\n",
    "%matplotlib inline"
   ]
  },
  {
   "cell_type": "code",
   "execution_count": 90,
   "metadata": {
    "collapsed": true
   },
   "outputs": [],
   "source": [
    "def Fxx(xx):\n",
    "    r=np.zeros([len(xx),1],dtype=np.float)\n",
    "    cnt=0\n",
    "    for x in xx:\n",
    "        m=(x*x)+(6*x)+8\n",
    "        if m==0:\n",
    "            r[cnt,0]=r[cnt-1,0]\n",
    "        else:\n",
    "            r[cnt,0]=-2.0*(x*x+2*x)/(m)\n",
    "        cnt+=1\n",
    "    return r"
   ]
  },
  {
   "cell_type": "code",
   "execution_count": 91,
   "metadata": {
    "collapsed": true
   },
   "outputs": [],
   "source": [
    "def Fx(x):\n",
    "    return (5*x*x)-5*x"
   ]
  },
  {
   "cell_type": "code",
   "execution_count": 183,
   "metadata": {
    "collapsed": false
   },
   "outputs": [
    {
     "data": {
      "image/png": "[encoded data removed]",
      "text/plain": [
       "<matplotlib.figure.Figure at 0x7fdeed3418d0>"
      ]
     },
     "metadata": {},
     "output_type": "display_data"
    }
   ],
   "source": [
    "fig=plt.figure(figsize=(10,8))\n",
    "ax = fig.add_subplot(111)\n",
    "rng=np.asarray(range(-4501,400001),dtype=np.float)/10.0\n",
    "y=Fx(rng)\n",
    "l=plt.plot(rng,y,'b')\n",
    "pss=plt.plot(rng[np.where(y == y.min())[0]],y.min(),'dr')\n",
    "#l3=plt.plot(range(-20,120),Fx(np.asarray(range(-20,120),dtype=np.float)))\n",
    "#l4=plt.plot(range(-20,120),Fx(np.asarray(range(-20,120),dtype=np.float)))\n",
    "plt.axis([-5,5,-5,10])\n",
    "plt.suptitle('Logistic Differential Equation', fontsize = 18)\n",
    "ax.set_xlabel('time t', fontsize = 16)\n",
    "ax.set_ylabel('Growth rate dP/dt', fontsize = 16)\n",
    "#ax.axhline(y=y.min(), color='g')\n",
    "#ax.axvline(x=y.min(), color='k')\n",
    "\n",
    "\n",
    "# set the x-spine (see below for more info on `set_position`)\n",
    "#ax.spines['left'].set_position('zero')\n",
    "\n",
    "# turn off the right spine/ticks\n",
    "ax.spines['right'].set_color('none')\n",
    "ax.yaxis.tick_left()\n",
    "q=plt.plot([-2,3],[y.min(),y.min()],'hg')\n",
    "# set the y-spine\n",
    "ax.spines['bottom'].set_position('zero')\n",
    "ax.margins(0,0)\n",
    "# turn off the top spine/ticks\n",
    "ax.spines['top'].set_color('none')\n",
    "ax.xaxis.tick_bottom()\n",
    "plt.setp(l, 'linewidth',2)\n",
    "plt.setp(l, 'linestyle','-')\n",
    "plt.setp(l,'markeredgewidth',2.0)\n",
    "plt.setp(l,'markersize',20.0)\n",
    "plt.setp(q, 'linestyle','--')\n",
    "plt.setp(q,'markeredgewidth',2.0)\n",
    "plt.setp(q,'markersize',5.0)\n",
    "plt.setp(pss,'markersize',5.0)\n",
    "plt.setp(pss,'markeredgewidth',2.0)\n",
    "plt.setp(pss,'markeredgecolor','r')\n",
    "plt.legend(['parabola'])\n",
    "plt.grid()"
   ]
  },
  {
   "cell_type": "code",
   "execution_count": 110,
   "metadata": {
    "collapsed": false
   },
   "outputs": [
    {
     "data": {
      "text/plain": [
       "array([], dtype=float64)"
      ]
     },
     "execution_count": 110,
     "metadata": {},
     "output_type": "execute_result"
    }
   ],
   "source": [
    "np.asarray(range(-2,-400))/100.0"
   ]
  },
  {
   "cell_type": "code",
   "execution_count": 46,
   "metadata": {
    "collapsed": false
   },
   "outputs": [
    {
     "data": {
      "text/plain": [
       "2.0"
      ]
     },
     "execution_count": 46,
     "metadata": {},
     "output_type": "execute_result"
    }
   ],
   "source": [
    "Fx(-1.9999999999)"
   ]
  },
  {
   "cell_type": "code",
   "execution_count": 164,
   "metadata": {
    "collapsed": false
   },
   "outputs": [
    {
     "data": {
      "text/plain": [
       "array([[-2.]])"
      ]
     },
     "execution_count": 164,
     "metadata": {},
     "output_type": "execute_result"
    }
   ],
   "source": [
    "Fxx([10000000000.0])"
   ]
  },
  {
   "cell_type": "code",
   "execution_count": 107,
   "metadata": {
    "collapsed": false
   },
   "outputs": [
    {
     "data": {
      "text/plain": [
       "array([ 0.5])"
      ]
     },
     "execution_count": 107,
     "metadata": {},
     "output_type": "execute_result"
    }
   ],
   "source": [
    "rng[np.where(y == y.min())]"
   ]
  },
  {
   "cell_type": "code",
   "execution_count": 108,
   "metadata": {
    "collapsed": false
   },
   "outputs": [
    {
     "data": {
      "text/plain": [
       "-1.25"
      ]
     },
     "execution_count": 108,
     "metadata": {},
     "output_type": "execute_result"
    }
   ],
   "source": [
    "y.min()"
   ]
  },
  {
   "cell_type": "code",
   "execution_count": 98,
   "metadata": {
    "collapsed": false
   },
   "outputs": [
    {
     "data": {
      "text/plain": [
       "(404502,)"
      ]
     },
     "execution_count": 98,
     "metadata": {},
     "output_type": "execute_result"
    }
   ],
   "source": [
    "y.shape"
   ]
  },
  {
   "cell_type": "code",
   "execution_count": null,
   "metadata": {
    "collapsed": true
   },
   "outputs": [],
   "source": []
  }
 ],
 "metadata": {
  "kernelspec": {
   "display_name": "Python 2",
   "language": "python",
   "name": "python2"
  },
  "language_info": {
   "codemirror_mode": {
    "name": "ipython",
    "version": 2
   },
   "file_extension": ".py",
   "mimetype": "text/x-python",
   "name": "python",
   "nbconvert_exporter": "python",
   "pygments_lexer": "ipython2",
   "version": "2.7.10"
  }
 },
 "nbformat": 4,
 "nbformat_minor": 0
}
