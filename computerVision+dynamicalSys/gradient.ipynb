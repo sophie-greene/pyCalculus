{
 "cells": [
  {
   "cell_type": "code",
   "execution_count": 217,
   "metadata": {
    "collapsed": false
   },
   "outputs": [
    {
     "data": {
      "image/png": "[encoded data removed]",
      "text/plain": [
       "<matplotlib.figure.Figure at 0x7f96dacbd050>"
      ]
     },
     "metadata": {},
     "output_type": "display_data"
    }
   ],
   "source": [
    "import cv2\n",
    "import numpy as np\n",
    "from matplotlib import pyplot as plt\n",
    "import scipy\n",
    "from scipy import ndimage\n",
    "\n",
    "%matplotlib inline\n",
    "img = cv2.imread('shape.png',0)\n",
    "img=img/255.0\n",
    "#laplacian = cv2.Laplacian(img,cv2.CV_64F)\n",
    "sobelxx = ndimage.filters.sobel(img, axis=-1,mode='constant')\n",
    "sobelx =cv2.Sobel(img,cv2.CV_64F,1,0,ksize=3,borderType=cv2.BORDER_CONSTANT)\n",
    "sobelyy = ndimage.filters.sobel(img, axis=0,mode='constant')#cv2.Sobel(img,cv2.CV_64F,0,1,ksize=1)\n",
    "sobely =cv2.Sobel(img,cv2.CV_64F,0,1,ksize=3,borderType=cv2.BORDER_CONSTANT )\n",
    "plt.figure(figsize=(15,10))\n",
    "plt.subplot(1,5,1),plt.imshow(img,cmap = 'gray');\n",
    "plt.title('Original'), plt.xticks([]), plt.yticks([]);\n",
    "plt.subplot(1,5,2),plt.imshow(sobelx,cmap = 'gray');\n",
    "plt.title('Sobel X'), plt.xticks([]), plt.yticks([]);\n",
    "plt.subplot(1,5,3),plt.imshow(sobely,cmap = 'gray');\n",
    "plt.title('Sobel Y'), plt.xticks([]), plt.yticks([]);\n",
    "\n",
    "mag=np.hypot(sobelx,sobely) #cv2.magnitude(sobelx,sobely)\n",
    "#mag *= 1.0 / np.max(mag) \n",
    "plt.subplot(1,5,4),plt.imshow(mag,cmap = 'gray');\n",
    "plt.title('Magnitude'), plt.xticks([]), plt.yticks([]);\n",
    "ph=scipy.arctan2(sobely,sobelx)*180.0/np.pi#cv2.phase(sobelx,sobely,angleInDegrees=True)\n",
    "plt.subplot(1,5,5),plt.imshow(1-((ph+180.0)/360.0),cmap = 'gray');\n",
    "plt.title('Angle'), plt.xticks([]), plt.yticks([]);\n"
   ]
  },
  {
   "cell_type": "code",
   "execution_count": 226,
   "metadata": {
    "collapsed": false
   },
   "outputs": [],
   "source": [
    "def select_gdir(gmag, gdir, mag_min, angle_low, angle_high):\n",
    "    mask=(gdir>=angle_low);\n",
    "    m=np.asarray(mask,np.float32)\n",
    "  \n",
    "    res=gdir*m\n",
    "    mask1=(res<=angle_high)\n",
    "    m1=np.asarray(mask1,np.float32)\n",
    "    res1=res*m1\n",
    "    mask2=gmag>=mag_min\n",
    " \n",
    "    m2=np.asarray(mask2,np.float32)\n",
    "    res2=m2*res1\n",
    "\n",
    "    return res2\n",
    " "
   ]
  },
  {
   "cell_type": "code",
   "execution_count": 242,
   "metadata": {
    "collapsed": false
   },
   "outputs": [
    {
     "data": {
      "text/plain": [
       "<matplotlib.image.AxesImage at 0x7f96d9e0da90>"
      ]
     },
     "execution_count": 242,
     "metadata": {},
     "output_type": "execute_result"
    },
    {
     "data": {
      "image/png": "[encoded data removed]",
      "text/plain": [
       "<matplotlib.figure.Figure at 0x7f96d9e769d0>"
      ]
     },
     "metadata": {},
     "output_type": "display_data"
    }
   ],
   "source": [
    "i=select_gdir(mag,((ph+180)),1,0,270)\n",
    "plt.imshow(i)"
   ]
  },
  {
   "cell_type": "code",
   "execution_count": 220,
   "metadata": {
    "collapsed": false
   },
   "outputs": [],
   "source": [
    "f=open('c.txt')\n",
    "s=f.readlines()\n",
    "cnt=0\n",
    "for strs in s:\n",
    "    cnt+=1\n",
    "    #print strs.replace(\"  \"+str(cnt)+\" \",'')"
   ]
  },
  {
   "cell_type": "code",
   "execution_count": 124,
   "metadata": {
    "collapsed": false
   },
   "outputs": [
    {
     "data": {
      "text/plain": [
       "array([[ 3.,  0.,  0., ...,  0.,  0., -3.],\n",
       "       [ 4.,  0.,  0., ...,  0.,  0., -4.],\n",
       "       [ 4.,  0.,  0., ...,  0.,  0., -4.],\n",
       "       ..., \n",
       "       [ 4.,  0.,  0., ...,  0.,  0., -4.],\n",
       "       [ 4.,  0.,  0., ...,  0.,  0., -4.],\n",
       "       [ 3.,  0.,  0., ...,  0.,  0., -3.]])"
      ]
     },
     "execution_count": 124,
     "metadata": {},
     "output_type": "execute_result"
    }
   ],
   "source": [
    "\n",
    "\n",
    "sobelx"
   ]
  },
  {
   "cell_type": "code",
   "execution_count": 191,
   "metadata": {
    "collapsed": false
   },
   "outputs": [
    {
     "data": {
      "text/plain": [
       "<matplotlib.image.AxesImage at 0x7f96dacdc610>"
      ]
     },
     "execution_count": 191,
     "metadata": {},
     "output_type": "execute_result"
    },
    {
     "data": {
      "image/png": "[encoded data removed]",
      "text/plain": [
       "<matplotlib.figure.Figure at 0x7f96daaa0ed0>"
      ]
     },
     "metadata": {},
     "output_type": "display_data"
    }
   ],
   "source": [
    "\n",
    "plt.imshow(gdir1)"
   ]
  },
  {
   "cell_type": "code",
   "execution_count": 50,
   "metadata": {
    "collapsed": false
   },
   "outputs": [
    {
     "data": {
      "text/plain": [
       "180.0"
      ]
     },
     "execution_count": 50,
     "metadata": {},
     "output_type": "execute_result"
    }
   ],
   "source": [
    "ph.max()"
   ]
  },
  {
   "cell_type": "code",
   "execution_count": 66,
   "metadata": {
    "collapsed": false
   },
   "outputs": [
    {
     "data": {
      "text/plain": [
       "array([[ 1.,  1.,  1., ...,  1.,  1.,  1.],\n",
       "       [ 1.,  1.,  1., ...,  1.,  1.,  1.],\n",
       "       [ 1.,  1.,  1., ...,  1.,  1.,  1.],\n",
       "       ..., \n",
       "       [ 1.,  1.,  1., ...,  1.,  1.,  1.],\n",
       "       [ 1.,  1.,  1., ...,  1.,  1.,  1.],\n",
       "       [ 1.,  1.,  1., ...,  1.,  1.,  1.]])"
      ]
     },
     "execution_count": 66,
     "metadata": {},
     "output_type": "execute_result"
    }
   ],
   "source": [
    "img"
   ]
  },
  {
   "cell_type": "code",
   "execution_count": 73,
   "metadata": {
    "collapsed": false
   },
   "outputs": [
    {
     "data": {
      "text/plain": [
       "0.38266955217154341"
      ]
     },
     "execution_count": 73,
     "metadata": {},
     "output_type": "execute_result"
    }
   ],
   "source": [
    "mag.max()"
   ]
  },
  {
   "cell_type": "code",
   "execution_count": 23,
   "metadata": {
    "collapsed": false
   },
   "outputs": [],
   "source": [
    "im=np.ones((3,3),dtype=np.float64)\n"
   ]
  },
  {
   "cell_type": "code",
   "execution_count": 16,
   "metadata": {
    "collapsed": false
   },
   "outputs": [
    {
     "data": {
      "text/plain": [
       "array([[ 0.,  0.,  0.],\n",
       "       [ 0.,  0.,  0.],\n",
       "       [ 0.,  0.,  0.]])"
      ]
     },
     "execution_count": 16,
     "metadata": {},
     "output_type": "execute_result"
    }
   ],
   "source": [
    "im"
   ]
  },
  {
   "cell_type": "code",
   "execution_count": 17,
   "metadata": {
    "collapsed": false
   },
   "outputs": [
    {
     "data": {
      "text/plain": [
       "array([[ 0.,  0.,  0.],\n",
       "       [ 0.,  1.,  0.],\n",
       "       [ 0.,  0.,  0.]])"
      ]
     },
     "execution_count": 17,
     "metadata": {},
     "output_type": "execute_result"
    }
   ],
   "source": [
    "im[1,1]=1\n",
    "im"
   ]
  },
  {
   "cell_type": "code",
   "execution_count": 19,
   "metadata": {
    "collapsed": true
   },
   "outputs": [],
   "source": [
    "sobel = cv2.Sobel(im,cv2.CV_8U,1,0,ksize=3)"
   ]
  },
  {
   "cell_type": "code",
   "execution_count": 28,
   "metadata": {
    "collapsed": false
   },
   "outputs": [
    {
     "data": {
      "text/plain": [
       "array([[ 0.,  0.,  0.],\n",
       "       [ 0.,  0.,  0.],\n",
       "       [ 0.,  0.,  0.]])"
      ]
     },
     "execution_count": 28,
     "metadata": {},
     "output_type": "execute_result"
    }
   ],
   "source": [
    "cv2.Sobel(im,cv2.CV_64F,0,1,ksize=1)"
   ]
  },
  {
   "cell_type": "code",
   "execution_count": 42,
   "metadata": {
    "collapsed": false
   },
   "outputs": [
    {
     "data": {
      "text/plain": [
       "4.0"
      ]
     },
     "execution_count": 42,
     "metadata": {},
     "output_type": "execute_result"
    }
   ],
   "source": []
  },
  {
   "cell_type": "code",
   "execution_count": 120,
   "metadata": {
    "collapsed": false
   },
   "outputs": [
    {
     "data": {
      "text/plain": [
       "(array([[-1.],\n",
       "        [ 0.],\n",
       "        [ 1.]], dtype=float32), array([[ 1.],\n",
       "        [ 2.],\n",
       "        [ 1.]], dtype=float32))"
      ]
     },
     "execution_count": 120,
     "metadata": {},
     "output_type": "execute_result"
    }
   ],
   "source": [
    "cv2.getDerivKernels(1,0,3,normalize = False,ktype = cv2.CV_32F)"
   ]
  },
  {
   "cell_type": "code",
   "execution_count": 152,
   "metadata": {
    "collapsed": false
   },
   "outputs": [],
   "source": [
    "m=(ph+180.0)"
   ]
  },
  {
   "cell_type": "code",
   "execution_count": 153,
   "metadata": {
    "collapsed": false
   },
   "outputs": [
    {
     "data": {
      "text/plain": [
       "360.0"
      ]
     },
     "execution_count": 153,
     "metadata": {},
     "output_type": "execute_result"
    }
   ],
   "source": [
    "m.max()"
   ]
  },
  {
   "cell_type": "code",
   "execution_count": null,
   "metadata": {
    "collapsed": true
   },
   "outputs": [],
   "source": []
  }
 ],
 "metadata": {
  "kernelspec": {
   "display_name": "Python 2",
   "language": "python",
   "name": "python2"
  },
  "language_info": {
   "codemirror_mode": {
    "name": "ipython",
    "version": 2
   },
   "file_extension": ".py",
   "mimetype": "text/x-python",
   "name": "python",
   "nbconvert_exporter": "python",
   "pygments_lexer": "ipython2",
   "version": "2.7.10"
  }
 },
 "nbformat": 4,
 "nbformat_minor": 0
}
